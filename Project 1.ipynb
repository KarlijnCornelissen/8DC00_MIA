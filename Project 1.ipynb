{
 "cells": [
  {
   "cell_type": "code",
   "execution_count": 1,
   "metadata": {},
   "outputs": [
    {
     "name": "stdout",
     "output_type": "stream",
     "text": [
      "['c:\\\\Programs\\\\Anaconda3\\\\envs\\\\8dc00\\\\python38.zip', 'c:\\\\Programs\\\\Anaconda3\\\\envs\\\\8dc00\\\\DLLs', 'c:\\\\Programs\\\\Anaconda3\\\\envs\\\\8dc00\\\\lib', 'c:\\\\Programs\\\\Anaconda3\\\\envs\\\\8dc00', '', 'c:\\\\Programs\\\\Anaconda3\\\\envs\\\\8dc00\\\\lib\\\\site-packages', 'c:\\\\Programs\\\\Anaconda3\\\\envs\\\\8dc00\\\\lib\\\\site-packages\\\\win32', 'c:\\\\Programs\\\\Anaconda3\\\\envs\\\\8dc00\\\\lib\\\\site-packages\\\\win32\\\\lib', 'c:\\\\Programs\\\\Anaconda3\\\\envs\\\\8dc00\\\\lib\\\\site-packages\\\\Pythonwin', '../code']\n"
     ]
    },
    {
     "ename": "Exception",
     "evalue": "Uneven amount of control points: 5. Even amount of control points required.",
     "output_type": "error",
     "traceback": [
      "\u001b[1;31m---------------------------------------------------------------------------\u001b[0m",
      "\u001b[1;31mException\u001b[0m                                 Traceback (most recent call last)",
      "Cell \u001b[1;32mIn[1], line 13\u001b[0m\n\u001b[0;32m     10\u001b[0m I_path \u001b[38;5;241m=\u001b[39m \u001b[38;5;124m'\u001b[39m\u001b[38;5;124m../data/image_data/1_1_t1.tif\u001b[39m\u001b[38;5;124m'\u001b[39m\n\u001b[0;32m     11\u001b[0m Im_path \u001b[38;5;241m=\u001b[39m \u001b[38;5;124m'\u001b[39m\u001b[38;5;124m../data/image_data/1_1_t1_d.tif\u001b[39m\u001b[38;5;124m'\u001b[39m\n\u001b[1;32m---> 13\u001b[0m X, Xm \u001b[38;5;241m=\u001b[39m \u001b[43mutil\u001b[49m\u001b[38;5;241;43m.\u001b[39;49m\u001b[43mcpselect\u001b[49m\u001b[43m(\u001b[49m\u001b[43mI_path\u001b[49m\u001b[43m,\u001b[49m\u001b[43m \u001b[49m\u001b[43mIm_path\u001b[49m\u001b[43m)\u001b[49m\n\u001b[0;32m     15\u001b[0m \u001b[38;5;28mprint\u001b[39m(\u001b[38;5;124m'\u001b[39m\u001b[38;5;124mX:\u001b[39m\u001b[38;5;130;01m\\n\u001b[39;00m\u001b[38;5;132;01m{}\u001b[39;00m\u001b[38;5;124m'\u001b[39m\u001b[38;5;241m.\u001b[39mformat(X))\n\u001b[0;32m     16\u001b[0m \u001b[38;5;28mprint\u001b[39m(\u001b[38;5;124m'\u001b[39m\u001b[38;5;124mXm:\u001b[39m\u001b[38;5;130;01m\\n\u001b[39;00m\u001b[38;5;132;01m{}\u001b[39;00m\u001b[38;5;124m'\u001b[39m\u001b[38;5;241m.\u001b[39mformat(Xm))\n",
      "File \u001b[1;32m~\\OneDrive\\Documenten\\School\\TU Eindhoven\\Programmas\\Github\\8DC00_MIA\\8DC00_MIA\\code\\registration_util.py:103\u001b[0m, in \u001b[0;36mcpselect\u001b[1;34m(imagePath1, imagePath2)\u001b[0m\n\u001b[0;32m    101\u001b[0m \u001b[38;5;66;03m#if there is an uneven amount of points, raise an exception\u001b[39;00m\n\u001b[0;32m    102\u001b[0m \u001b[38;5;28;01mif\u001b[39;00m \u001b[38;5;129;01mnot\u001b[39;00m (\u001b[38;5;28mlen\u001b[39m(points)\u001b[38;5;241m%\u001b[39m\u001b[38;5;241m2\u001b[39m \u001b[38;5;241m==\u001b[39m \u001b[38;5;241m0\u001b[39m):\n\u001b[1;32m--> 103\u001b[0m \t\u001b[38;5;28;01mraise\u001b[39;00m \u001b[38;5;167;01mException\u001b[39;00m(\u001b[38;5;124m\"\u001b[39m\u001b[38;5;124mUneven amount of control points: \u001b[39m\u001b[38;5;132;01m{0}\u001b[39;00m\u001b[38;5;124m. Even amount of control points required.\u001b[39m\u001b[38;5;124m\"\u001b[39m\u001b[38;5;241m.\u001b[39mformat(\u001b[38;5;28mlen\u001b[39m(points)))\n\u001b[0;32m    105\u001b[0m \u001b[38;5;66;03m#if there are no points, raise an exception\u001b[39;00m\n\u001b[0;32m    106\u001b[0m \u001b[38;5;28;01mif\u001b[39;00m \u001b[38;5;129;01mnot\u001b[39;00m (\u001b[38;5;28mlen\u001b[39m(points)\u001b[38;5;241m>\u001b[39m \u001b[38;5;241m0\u001b[39m):\n",
      "\u001b[1;31mException\u001b[0m: Uneven amount of control points: 5. Even amount of control points required."
     ]
    }
   ],
   "source": [
    "import os\n",
    "os.getcwd()\n",
    "os.chdir(r\"C:\\Users\\karli\\OneDrive\\Documenten\\School\\TU Eindhoven\\Programmas\\Github\\8DC00_MIA\\8DC00_MIA\\code\")\n",
    "\n",
    "import sys\n",
    "sys.path.append(\"../code\")\n",
    "print(sys.path)\n",
    "import registration_util as util\n",
    "\n",
    "I_path = '../data/image_data/1_1_t1.tif'\n",
    "Im_path = '../data/image_data/1_1_t1_d.tif'\n",
    "\n",
    "X, Xm = util.cpselect(I_path, Im_path)\n",
    "\n",
    "print('X:\\n{}'.format(X))\n",
    "print('Xm:\\n{}'.format(Xm))\n"
   ]
  },
  {
   "cell_type": "code",
   "execution_count": 2,
   "metadata": {},
   "outputs": [
    {
     "name": "stdout",
     "output_type": "stream",
     "text": [
      "X:\n",
      "[[142.57096774 143.8483871   81.25483871]\n",
      " [140.43419355 232.4083871  135.32451613]]\n",
      "Xm:\n",
      "[[146.98387097 140.59677419  80.55806452]\n",
      " [137.87935484 233.68580645 136.60193548]]\n"
     ]
    }
   ],
   "source": [
    "import sys\n",
    "sys.path.append(\"../code\")\n",
    "import registration_util as util\n",
    "\n",
    "I_path = '../data/image_data/1_1_t1.tif'\n",
    "Im_path = '../data/image_data/1_1_t1_d.tif'\n",
    "\n",
    "X, Xm = util.cpselect(I_path, Im_path)\n",
    "\n",
    "print('X:\\n{}'.format(X))\n",
    "print('Xm:\\n{}'.format(Xm))"
   ]
  }
 ],
 "metadata": {
  "kernelspec": {
   "display_name": "8DC00_MIA",
   "language": "python",
   "name": "python3"
  },
  "language_info": {
   "codemirror_mode": {
    "name": "ipython",
    "version": 3
   },
   "file_extension": ".py",
   "mimetype": "text/x-python",
   "name": "python",
   "nbconvert_exporter": "python",
   "pygments_lexer": "ipython3",
   "version": "3.8.19"
  }
 },
 "nbformat": 4,
 "nbformat_minor": 2
}
